{
  "cells": [
    {
      "cell_type": "code",
      "source": [
        "import json\n",
        "import urllib\n",
        "\n",
        "from IPython.display import Image\n",
        "\n",
        "# searching tools\n",
        "from satsearch import Search\n",
        "import geojsonio\n",
        "from shapely.geometry import shape\n",
        "\n",
        "# visualizing data tools\n",
        "import rasterio\n",
        "from rasterio.crs import CRS\n",
        "from rasterio.warp import transform_bounds\n",
        "from rasterio.windows import Window\n",
        "from rio_tiler.utils import get_vrt_transform\n",
        "import numpy as np\n",
        "from PIL import Image as PILImage"
      ],
      "outputs": [],
      "execution_count": null,
      "metadata": {
        "collapsed": false,
        "outputHidden": false,
        "inputHidden": false
      }
    },
    {
      "cell_type": "markdown",
      "source": [
        "# Finding Imagery\n",
        "\n",
        "Let's search for Landsat imagery over Yokohama. Development Seed [hosts an instance](https://sat-api.developmentseed.org/search/stac) of [`sat-api`](https://github.com/sat-utils/sat-api), an open source, [STAC](https://github.com/radiantearth/stac-spec) compliant API for searching for imagery."
      ],
      "metadata": {}
    },
    {
      "cell_type": "code",
      "source": [
        "# AOI over Yokohama expressed as GeoJSON\n",
        "aoi = {\n",
        "    \"type\": \"Polygon\",\n",
        "    \"coordinates\":[\n",
        "        [\n",
        "            [139.60,35.38],\n",
        "            [139.69,35.38],\n",
        "            [139.69,35.45],\n",
        "            [139.60,35.45],\n",
        "            [139.60,35.38]\n",
        "        ]\n",
        "    ]\n",
        "}"
      ],
      "outputs": [],
      "execution_count": null,
      "metadata": {
        "collapsed": false,
        "outputHidden": false,
        "inputHidden": false
      }
    },
    {
      "cell_type": "code",
      "source": [
        "shape(aoi)"
      ],
      "outputs": [],
      "execution_count": null,
      "metadata": {
        "collapsed": false,
        "outputHidden": false,
        "inputHidden": false
      }
    },
    {
      "cell_type": "code",
      "source": [
        "# View GeoJSON on https://geojson.io\n",
        "# This site can also be used for creating an AOI\n",
        "geojsonio.display(json.dumps(aoi))"
      ],
      "outputs": [],
      "execution_count": null,
      "metadata": {
        "collapsed": false,
        "outputHidden": true,
        "inputHidden": false
      }
    },
    {
      "cell_type": "code",
      "source": [
        "# Choose other filters for our imagery\n",
        "START_DATE = '2019-01-01T00:00:00Z'\n",
        "END_DATE = '2019-05-01T23:59:59Z'\n",
        "BOUNDING_BOX = shape(aoi).bounds\n",
        "MIN_CLOUD_COVER = 0\n",
        "MAX_CLOUD_COVER = 10\n",
        "\n",
        "results = (\n",
        "            Search(\n",
        "                bbox=BOUNDING_BOX,\n",
        "                time=f\"{START_DATE}/{END_DATE}\",\n",
        "                query={\n",
        "                    \"eo:cloud_cover\": {\"gte\": MIN_CLOUD_COVER, \"lte\": MAX_CLOUD_COVER},\n",
        "                    \"eo:sun_elevation\": {\"gt\": 0},\n",
        "                    \"landsat:tier\": {\"eq\": \"T1\"},\n",
        "                    \"collection\": {\"eq\": \"landsat-8-l1\"},\n",
        "                },\n",
        "                sort=[\n",
        "                    {\"field\": \"eo:cloud_cover\", \"direction\": \"desc\"},\n",
        "                    {\"field\": \"datetime\", \"direction\": \"asc\"}\n",
        "                ]\n",
        "            )\n",
        "            .items()\n",
        "            .geojson()\n",
        "        )"
      ],
      "outputs": [],
      "execution_count": null,
      "metadata": {
        "collapsed": false,
        "outputHidden": true,
        "inputHidden": false
      }
    },
    {
      "cell_type": "code",
      "source": [
        "# Show how many scenes were returned\n",
        "len(results['features'])"
      ],
      "outputs": [],
      "execution_count": null,
      "metadata": {
        "collapsed": false,
        "outputHidden": false,
        "inputHidden": false
      }
    },
    {
      "cell_type": "code",
      "source": [
        "# Since the response is also GeoJSON, we can view the scene boundaries\n",
        "geojsonio.display(json.dumps(results))"
      ],
      "outputs": [],
      "execution_count": null,
      "metadata": {
        "collapsed": false,
        "outputHidden": true,
        "inputHidden": false
      }
    },
    {
      "cell_type": "code",
      "source": [
        "# Show all the available dictionary keys on each scene/feature\n",
        "first_scene = results['features'][0]\n",
        "first_scene.keys()"
      ],
      "outputs": [],
      "execution_count": null,
      "metadata": {
        "collapsed": false,
        "outputHidden": false,
        "inputHidden": false
      }
    },
    {
      "cell_type": "code",
      "source": [
        "# Show all the available scene properties (metadata)\n",
        "list(first_scene['properties'].keys())"
      ],
      "outputs": [],
      "execution_count": null,
      "metadata": {
        "collapsed": false,
        "outputHidden": false,
        "inputHidden": false
      }
    },
    {
      "cell_type": "code",
      "source": [
        "# Show all the available scene assets (data)\n",
        "list(first_scene['assets'].keys())"
      ],
      "outputs": [],
      "execution_count": null,
      "metadata": {
        "collapsed": false,
        "outputHidden": false,
        "inputHidden": false
      }
    },
    {
      "cell_type": "markdown",
      "source": [
        "## Downloading Imagery\n",
        "\n",
        "Now let's download imagery. But instead of getting the whole file, let's save bandwidth and only grab the data we need. Because the files are organized as [Cloud-Optimized GeoTIFF](https://trac.osgeo.org/gdal/wiki/CloudOptimizedGeoTIFF)"
      ],
      "metadata": {}
    },
    {
      "cell_type": "code",
      "source": [
        "# View the scene thumbnail before downloading any large files\n",
        "thumbnail = first_scene['assets']['thumbnail']\n",
        "Image(thumbnail['href'])"
      ],
      "outputs": [],
      "execution_count": null,
      "metadata": {
        "collapsed": false,
        "outputHidden": false,
        "inputHidden": false
      }
    },
    {
      "cell_type": "code",
      "source": [
        "# The thumbnail is only 116 kB\n",
        "r = urllib.request.urlopen(first_scene['assets']['thumbnail']['href'])\n",
        "f'{r.info()[\"Content-Length\"]} bytes'"
      ],
      "outputs": [],
      "execution_count": null,
      "metadata": {
        "collapsed": false,
        "outputHidden": false,
        "inputHidden": false
      }
    },
    {
      "cell_type": "code",
      "source": [
        "# One band of the actual data is 53.6 MB\n",
        "red_band = first_scene['assets']['B4']['href']\n",
        "r = urllib.request.urlopen(red_band)\n",
        "f'{r.info()[\"Content-Length\"]} bytes'"
      ],
      "outputs": [],
      "execution_count": null,
      "metadata": {
        "collapsed": false,
        "outputHidden": false,
        "inputHidden": false
      }
    },
    {
      "cell_type": "code",
      "source": [
        "# We can use rasterio to read the file headers and see how the data is organized before downloading\n",
        "# Landsat files are arranged into easily downloadable square blocks which isn't true of GeoTIFF files in general\n",
        "with rasterio.open(red_band) as src:\n",
        "    print(src.block_shapes)\n",
        "    \n",
        "dg_open_url = 'https://opendata.digitalglobe.com/hurricane-florence/pre-event/2018-01-01/10400100380D1C00/0302213.tif'\n",
        "\n",
        "with rasterio.open(dg_open_url) as src:\n",
        "    print(src.block_shapes)"
      ],
      "outputs": [],
      "execution_count": null,
      "metadata": {
        "collapsed": false,
        "outputHidden": false,
        "inputHidden": false
      }
    },
    {
      "cell_type": "code",
      "source": [
        "def get_window(src, latlng_bbox):\n",
        "    bounds = transform_bounds(CRS({ 'init': 'EPSG:4326' }), src.crs,  *latlng_bbox)\n",
        "    transform, width, height = get_vrt_transform(src, bounds, dst_crs=src.crs)\n",
        "    col_off = round((transform[2] - src.transform[2]) / src.transform[0])\n",
        "    row_off = round((transform[5] - src.transform[5]) / src.transform[4])\n",
        "    return Window(col_off=col_off, row_off=row_off, width=width, height=height)\n",
        "\n",
        "\n",
        "with rasterio.open(red_band) as src:\n",
        "    window = get_window(src, BOUNDING_BOX)\n",
        "    print(window)\n",
        "    array = src.read(1, window=window)"
      ],
      "outputs": [],
      "execution_count": null,
      "metadata": {
        "collapsed": false,
        "outputHidden": false,
        "inputHidden": false
      }
    },
    {
      "cell_type": "code",
      "source": [
        "def scale_array(arr):\n",
        "    a_min = np.min(arr)\n",
        "    a_max = np.max(arr)\n",
        "    return ((arr - a_min) / (a_max - a_min) * 255).astype(np.uint8)\n",
        "\n",
        "scaled_array = scale_array(array)\n",
        "PILImage.fromarray(scaled_array * 4)"
      ],
      "outputs": [],
      "execution_count": null,
      "metadata": {
        "collapsed": false,
        "outputHidden": false,
        "inputHidden": false
      }
    },
    {
      "cell_type": "code",
      "source": [
        "bands = ['B4', 'B3', 'B2']\n",
        "band_data = []\n",
        "for band in bands:\n",
        "    band_url = first_scene['assets'][band]['href']\n",
        "    with rasterio.open(band_url) as band_src:\n",
        "        window = get_window(band_src, BOUNDING_BOX)\n",
        "        array = band_src.read(1, window=window)\n",
        "        band_data.append(array)    "
      ],
      "outputs": [],
      "execution_count": null,
      "metadata": {
        "collapsed": false,
        "outputHidden": true,
        "inputHidden": false
      }
    },
    {
      "cell_type": "code",
      "source": [
        "scaled_bands = [scale_array(a) * 4 for a in band_data]\n",
        "PILImage.fromarray(np.stack(scaled_bands, axis=2))"
      ],
      "outputs": [],
      "execution_count": null,
      "metadata": {
        "collapsed": false,
        "outputHidden": false,
        "inputHidden": false
      }
    },
    {
      "cell_type": "code",
      "source": [],
      "outputs": [],
      "execution_count": null,
      "metadata": {
        "collapsed": false,
        "outputHidden": false,
        "inputHidden": false
      }
    }
  ],
  "metadata": {
    "kernel_info": {
      "name": "igarss"
    },
    "language_info": {
      "name": "python",
      "version": "3.7.2",
      "mimetype": "text/x-python",
      "codemirror_mode": {
        "name": "ipython",
        "version": 3
      },
      "pygments_lexer": "ipython3",
      "nbconvert_exporter": "python",
      "file_extension": ".py"
    },
    "kernelspec": {
      "name": "igarss",
      "language": "python",
      "display_name": "IGARSS"
    },
    "nteract": {
      "version": "0.14.4"
    }
  },
  "nbformat": 4,
  "nbformat_minor": 0
}